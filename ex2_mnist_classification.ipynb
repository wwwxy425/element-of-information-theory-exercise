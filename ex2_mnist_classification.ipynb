{
 "cells": [
  {
   "cell_type": "code",
   "execution_count": 8,
   "id": "02618f3e-d713-4226-9e45-f3ceb8cc4644",
   "metadata": {},
   "outputs": [
    {
     "name": "stdout",
     "output_type": "stream",
     "text": [
      "Using device: cpu\n"
     ]
    }
   ],
   "source": [
    "import torch\n",
    "import torch.nn as nn\n",
    "import torch.optim as optim\n",
    "from torch.utils.data import DataLoader\n",
    "from torchvision import datasets, transforms\n",
    "import matplotlib.pyplot as plt\n",
    "import torch.nn.functional as F\n",
    "\n",
    "device = torch.device(\"cuda\" if torch.cuda.is_available() else \"cpu\")\n",
    "print(f\"Using device: {device}\")"
   ]
  },
  {
   "cell_type": "code",
   "execution_count": 9,
   "id": "e18cebbe-86f5-4901-b95a-e7e098f694e7",
   "metadata": {},
   "outputs": [
    {
     "name": "stderr",
     "output_type": "stream",
     "text": [
      "100%|██████████| 9.91M/9.91M [00:18<00:00, 526kB/s]\n",
      "100%|██████████| 28.9k/28.9k [00:00<00:00, 98.6kB/s]\n",
      "100%|██████████| 1.65M/1.65M [00:29<00:00, 55.2kB/s]\n",
      "100%|██████████| 4.54k/4.54k [00:00<00:00, 2.12MB/s]\n"
     ]
    }
   ],
   "source": [
    "# Transform: Normalize and convert to tensor\n",
    "transform = transforms.Compose([\n",
    "    transforms.ToTensor(),\n",
    "    transforms.Normalize((0.1307,), (0.3081,))  # MNIST mean & std\n",
    "])\n",
    "\n",
    "# Download datasets\n",
    "train_dataset = datasets.MNIST(\n",
    "    root=\"./data\", train=True, download=True, transform=transform\n",
    ")\n",
    "test_dataset = datasets.MNIST(\n",
    "    root=\"./data\", train=False, download=True, transform=transform\n",
    ")\n",
    "\n",
    "# Data loaders\n",
    "batch_size = 64\n",
    "train_loader = DataLoader(train_dataset, batch_size=batch_size, shuffle=True)\n",
    "test_loader = DataLoader(test_dataset, batch_size=batch_size, shuffle=False)"
   ]
  },
  {
   "cell_type": "markdown",
   "id": "058a5c4b",
   "metadata": {},
   "source": [
    "加入残差块（参考https://stackoverflow.com/questions/60817390/implementing-a-simple-resnet-block-with-pytorch）"
   ]
  },
  {
   "cell_type": "code",
   "execution_count": 10,
   "id": "f9b1cadf",
   "metadata": {},
   "outputs": [],
   "source": [
    "class ResBlock(nn.Module):\n",
    "    def __init__(self, in_channels, out_channels, stride=1):\n",
    "        super(ResBlock, self).__init__()\n",
    "        self.skip = nn.Sequential()\n",
    "        if stride != 1 or in_channels != out_channels:\n",
    "            self.skip = nn.Sequential(\n",
    "                nn.Conv2d(in_channels, out_channels, kernel_size=1, stride=stride, bias=False),\n",
    "                nn.BatchNorm2d(out_channels)\n",
    "            )\n",
    "\n",
    "        self.block = nn.Sequential(\n",
    "            nn.Conv2d(in_channels, out_channels, kernel_size=3, padding=1, stride=stride, bias=False),\n",
    "            nn.BatchNorm2d(out_channels),\n",
    "            nn.ReLU(inplace=True),\n",
    "            nn.Conv2d(out_channels, out_channels, kernel_size=3, padding=1, stride=1, bias=False),\n",
    "            nn.BatchNorm2d(out_channels)\n",
    "        )\n",
    "\n",
    "    def forward(self, x):\n",
    "        identity = self.skip(x)\n",
    "        out = self.block(x)\n",
    "        out += identity\n",
    "        out = F.relu(out)\n",
    "        return out"
   ]
  },
  {
   "cell_type": "code",
   "execution_count": 11,
   "id": "24599719",
   "metadata": {},
   "outputs": [],
   "source": [
    "class CNN_res(nn.Module):\n",
    "    def __init__(self):\n",
    "        super(CNN_res, self).__init__()\n",
    "        self.conv1 = nn.Conv2d(1, 32, kernel_size=3, stride=1, padding=1,bias=False)\n",
    "        self.bn1=nn.BatchNorm2d(32)\n",
    "        #残差块1\n",
    "        self.resblock1=ResBlock(32,32)\n",
    "        self.pool = nn.MaxPool2d(kernel_size=2, stride=2)#28x28 → 14x14 \n",
    "\n",
    "        #残差块2\n",
    "        self.resblock2=ResBlock(32,64,stride=2)#14x14 → 7x7\n",
    "        \n",
    "        self.fc1 = nn.Linear(64 * 7 * 7, 128)  # MNIST is 28x28 → 7x7 after pooling twice\n",
    "        self.fc2 = nn.Linear(128, 10)  # 10 classes (digits 0-9)\n",
    "        self.dropout = nn.Dropout(0.5)\n",
    "\n",
    "    def forward(self, x):\n",
    "        x = self.conv1(x)\n",
    "        x=F.relu(self.bn1(x))          \n",
    "        x = self.resblock1(x)      \n",
    "        x = self.pool(x)          \n",
    "        x = self.resblock2(x)      \n",
    "        x = x.view(-1, 64 * 7 * 7) \n",
    "        x = F.relu(self.fc1(x))\n",
    "        x = self.dropout(x)\n",
    "        x = self.fc2(x)\n",
    "        return x\n",
    "    "
   ]
  },
  {
   "cell_type": "code",
   "execution_count": 12,
   "id": "d16f34d9-ef47-4d5b-a178-726fbee1bfc6",
   "metadata": {},
   "outputs": [
    {
     "name": "stdout",
     "output_type": "stream",
     "text": [
      "Epoch 1/10, Train Loss: 0.1609, Test Loss: 0.0380, Accuracy: 98.78%\n",
      "Epoch 2/10, Train Loss: 0.0693, Test Loss: 0.0326, Accuracy: 99.02%\n",
      "Epoch 3/10, Train Loss: 0.0524, Test Loss: 0.0258, Accuracy: 99.22%\n",
      "Epoch 4/10, Train Loss: 0.0437, Test Loss: 0.0253, Accuracy: 99.24%\n",
      "Epoch 5/10, Train Loss: 0.0347, Test Loss: 0.0250, Accuracy: 99.25%\n",
      "Epoch 6/10, Train Loss: 0.0294, Test Loss: 0.0254, Accuracy: 99.25%\n",
      "Epoch 7/10, Train Loss: 0.0262, Test Loss: 0.0286, Accuracy: 99.08%\n",
      "Epoch 8/10, Train Loss: 0.0241, Test Loss: 0.0280, Accuracy: 99.20%\n",
      "Epoch 9/10, Train Loss: 0.0208, Test Loss: 0.0273, Accuracy: 99.13%\n",
      "Epoch 10/10, Train Loss: 0.0174, Test Loss: 0.0296, Accuracy: 99.23%\n"
     ]
    }
   ],
   "source": [
    "model = CNN_res().to(device)\n",
    "criterion = nn.CrossEntropyLoss()\n",
    "optimizer = optim.Adam(model.parameters(), lr=0.001)\n",
    "\n",
    "epochs = 10\n",
    "train_losses, test_losses = [], []\n",
    "\n",
    "for epoch in range(epochs):\n",
    "    model.train()\n",
    "    running_loss = 0.0\n",
    "    for images, labels in train_loader:\n",
    "        images, labels = images.to(device), labels.to(device)\n",
    "        \n",
    "        optimizer.zero_grad()\n",
    "        outputs = model(images)\n",
    "        loss = criterion(outputs, labels)\n",
    "        loss.backward()\n",
    "        optimizer.step()\n",
    "        \n",
    "        running_loss += loss.item() * images.size(0)\n",
    "    \n",
    "    epoch_loss = running_loss / len(train_loader.dataset)\n",
    "    train_losses.append(epoch_loss)\n",
    "    \n",
    "    # Validation\n",
    "    model.eval()\n",
    "    test_loss = 0.0\n",
    "    correct = 0\n",
    "    with torch.no_grad():\n",
    "        for images, labels in test_loader:\n",
    "            images, labels = images.to(device), labels.to(device)\n",
    "            outputs = model(images)\n",
    "            loss = criterion(outputs, labels)\n",
    "            test_loss += loss.item() * images.size(0)\n",
    "            _, predicted = torch.max(outputs, 1)\n",
    "            correct += (predicted == labels).sum().item()\n",
    "    \n",
    "    test_loss /= len(test_loader.dataset)\n",
    "    test_losses.append(test_loss)\n",
    "    accuracy = 100 * correct / len(test_loader.dataset)\n",
    "    \n",
    "    print(\n",
    "        f\"Epoch {epoch+1}/{epochs}, \"\n",
    "        f\"Train Loss: {epoch_loss:.4f}, \"\n",
    "        f\"Test Loss: {test_loss:.4f}, \"\n",
    "        f\"Accuracy: {accuracy:.2f}%\"\n",
    "    )"
   ]
  },
  {
   "cell_type": "code",
   "execution_count": 13,
   "id": "9da0cd9e-e48f-4081-8204-e73728c8fd7c",
   "metadata": {},
   "outputs": [
    {
     "data": {
      "image/png": "[encoded data removed]",
      "text/plain": [
       "<Figure size 640x480 with 1 Axes>"
      ]
     },
     "metadata": {},
     "output_type": "display_data"
    }
   ],
   "source": [
    "plt.plot(train_losses, label=\"Training Loss\")\n",
    "plt.plot(test_losses, label=\"Test Loss\")\n",
    "plt.xlabel(\"Epoch\")\n",
    "plt.ylabel(\"Loss\")\n",
    "plt.legend()\n",
    "plt.show()"
   ]
  }
 ],
 "metadata": {
  "kernelspec": {
   "display_name": "env_1e",
   "language": "python",
   "name": "python3"
  },
  "language_info": {
   "codemirror_mode": {
    "name": "ipython",
    "version": 3
   },
   "file_extension": ".py",
   "mimetype": "text/x-python",
   "name": "python",
   "nbconvert_exporter": "python",
   "pygments_lexer": "ipython3",
   "version": "3.9.21"
  }
 },
 "nbformat": 4,
 "nbformat_minor": 5
}
